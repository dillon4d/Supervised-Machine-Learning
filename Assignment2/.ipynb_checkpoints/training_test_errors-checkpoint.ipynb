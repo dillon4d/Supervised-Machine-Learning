{
 "cells": [
  {
   "cell_type": "markdown",
   "metadata": {
    "id": "7RdT8VIym1EY"
   },
   "source": [
    "## Training vs Testing Errors"
   ]
  },
  {
   "cell_type": "code",
   "execution_count": 1,
   "metadata": {
    "ExecuteTime": {
     "end_time": "2018-01-15T01:53:29.342835Z",
     "start_time": "2018-01-15T01:53:29.316606Z"
    },
    "executionInfo": {
     "elapsed": 1042,
     "status": "ok",
     "timestamp": 1602804751045,
     "user": {
      "displayName": "Jason Fleischer",
      "photoUrl": "https://lh3.googleusercontent.com/a-/AOh14GgtpHzWbfEIjvnSItG-SwnFKlKdDRTKK6knRrrJ=s64",
      "userId": "06790656365434630744"
     },
     "user_tz": 420
    },
    "id": "KEScwvRJm1EZ"
   },
   "outputs": [],
   "source": [
    "import numpy as np\n",
    "import matplotlib.pyplot as plt\n",
    "from sklearn import datasets"
   ]
  },
  {
   "cell_type": "markdown",
   "metadata": {
    "id": "gyZJ-Fr1m1Ee"
   },
   "source": [
    "### Load the Iris dataset"
   ]
  },
  {
   "cell_type": "code",
   "execution_count": 2,
   "metadata": {
    "ExecuteTime": {
     "end_time": "2018-01-15T01:53:29.850715Z",
     "start_time": "2018-01-15T01:53:29.827663Z"
    },
    "colab": {
     "base_uri": "https://localhost:8080/",
     "height": 68
    },
    "executionInfo": {
     "elapsed": 503,
     "status": "ok",
     "timestamp": 1602804752486,
     "user": {
      "displayName": "Jason Fleischer",
      "photoUrl": "https://lh3.googleusercontent.com/a-/AOh14GgtpHzWbfEIjvnSItG-SwnFKlKdDRTKK6knRrrJ=s64",
      "userId": "06790656365434630744"
     },
     "user_tz": 420
    },
    "id": "0Z9h7eEJm1Ef",
    "outputId": "917c6418-f0b8-4c2a-bf39-298de49a79b6"
   },
   "outputs": [
    {
     "name": "stdout",
     "output_type": "stream",
     "text": [
      "(150, 4)\n",
      "(150, 1)\n",
      "[5.8 4.  1.2 0.2 0. ]\n"
     ]
    }
   ],
   "source": [
    "# Iris dataset.\n",
    "iris = datasets.load_iris()     # Load Iris dataset.\n",
    "\n",
    "X = iris.data                   # The shape of X is (150, 4), which means\n",
    "                                # there are 150 data points, each data point\n",
    "                                # has 4 features.\n",
    "\n",
    "# Here for convenience, we divide the 3 kinds of flowers into 2 groups: \n",
    "#     Y = 0 (or False):  Setosa (original value 0) / Versicolor (original value 1)\n",
    "#     Y = 1 (or True):   Virginica (original value 2)\n",
    "\n",
    "# Thus we use (iris.target > 1.5) to divide the targets into 2 groups. \n",
    "# This line of code will assign:\n",
    "#    Y[i] = True  (which is equivalent to 1) if iris.target[k]  > 1.5 (Virginica)\n",
    "#    Y[i] = False (which is equivalent to 0) if iris.target[k] <= 1.5 (Setosa / Versicolor)\n",
    "\n",
    "Y = (iris.target > 1.5).reshape(-1,1) # The shape of Y is (150, 1), which means \n",
    "                                # there are 150 data points, each data point\n",
    "                                # has 1 target value. \n",
    "\n",
    "X_and_Y = np.hstack((X, Y))     # Stack them together for shuffling.\n",
    "np.random.seed(1)               # Set the random seed.\n",
    "np.random.shuffle(X_and_Y)      # Shuffle the data points in X_and_Y array\n",
    "\n",
    "print(X.shape)\n",
    "print(Y.shape)\n",
    "print(X_and_Y[0])               # The result should be always: [ 5.8  4.   1.2  0.2  0. ]"
   ]
  },
  {
   "cell_type": "code",
   "execution_count": 3,
   "metadata": {
    "ExecuteTime": {
     "end_time": "2018-01-15T01:53:30.865395Z",
     "start_time": "2018-01-15T01:53:30.858121Z"
    },
    "colab": {
     "base_uri": "https://localhost:8080/",
     "height": 85
    },
    "executionInfo": {
     "elapsed": 533,
     "status": "ok",
     "timestamp": 1602804756681,
     "user": {
      "displayName": "Jason Fleischer",
      "photoUrl": "https://lh3.googleusercontent.com/a-/AOh14GgtpHzWbfEIjvnSItG-SwnFKlKdDRTKK6knRrrJ=s64",
      "userId": "06790656365434630744"
     },
     "user_tz": 420
    },
    "id": "r9VQI_7Fm1Ei",
    "outputId": "9d808d33-2c19-4750-e1c4-8d7fd1fd30af"
   },
   "outputs": [
    {
     "name": "stdout",
     "output_type": "stream",
     "text": [
      "(100, 4)\n",
      "(100,)\n",
      "(50, 4)\n",
      "(50,)\n"
     ]
    }
   ],
   "source": [
    "# Divide the data points into training set and test set.\n",
    "X_shuffled = X_and_Y[:,:4]\n",
    "Y_shuffled = X_and_Y[:,4]\n",
    "\n",
    "X_train = X_shuffled[:100] # Shape: (100,4)\n",
    "Y_train = Y_shuffled[:100] # Shape: (100,)\n",
    "X_test = X_shuffled[100:]  # Shape: (50,4)\n",
    "Y_test = Y_shuffled[100:]  # Shape: (50,)\n",
    "print(X_train.shape)\n",
    "print(Y_train.shape)\n",
    "print(X_test.shape)\n",
    "print(Y_test.shape)"
   ]
  },
  {
   "cell_type": "code",
   "execution_count": null,
   "metadata": {
    "id": "C_aBJWD-m1El",
    "outputId": "4b0f3d1c-fb90-46fc-9c73-363446c73125"
   },
   "outputs": [
    {
     "name": "stdout",
     "output_type": "stream",
     "text": [
      "[ 0.12975624  0.12249935 -0.11714156  0.67102651]\n",
      "-1.16987680881\n"
     ]
    }
   ],
   "source": [
    "from sklearn.linear_model import LinearRegression \n",
    "\n",
    "# let's train a LR model...\n",
    "# note that this time we let sklearn fit the intercept\n",
    "# ask yourself why. Ask yourself what could we have done\n",
    "# to X_and_Y so that we could have used\n",
    "# = LinearRegression(fit_intercept=False).fit(X_train, Y_train)\n",
    "# instead of the below line, and got identical results?\n",
    "pre_defined_weights = LinearRegression().fit(X_train, Y_train)\n",
    "w = pre_defined_weights.coef_\n",
    "b = pre_defined_weights.intercept_"
   ]
  },
  {
   "cell_type": "code",
   "execution_count": null,
   "metadata": {
    "id": "LFcB1x86m1Eo",
    "scrolled": true
   },
   "outputs": [],
   "source": [
    "def regression_error(x, y, w, b):\n",
    "    \n",
    "    regression_error = 0\n",
    "    for i in range(len(x)):\n",
    "        # TODO: ******** To be filled ********\n",
    "        \n",
    "        # prediction based on x \n",
    "        \n",
    "        # regression error, doing the sum \n",
    "        \n",
    "    # calculate the mean and square root \n",
    "    \n",
    "    return regression_error\n",
    "\n",
    "def classification_error(x, y, w, b):\n",
    "    classification_error = 0\n",
    "    \n",
    "    for i in range(len(x)):\n",
    "        # TODO: ******** To be filled ********\n",
    "        \n",
    "        # prediction based on x\n",
    "        \n",
    "        # classification error\n",
    "        \n",
    "    # calculate the mean of error \n",
    "    \n",
    "    return classification_error\n",
    "    \n",
    "print('Training regression errors are:')\n",
    "print(regression_error(X_train, Y_train, w, b))\n",
    "print('Testing regression errors are:')\n",
    "print(regression_error(X_test, Y_test, w, b))\n",
    "\n",
    "print('Training classification errors are:')\n",
    "print(classification_error(X_train, Y_train, w, b))\n",
    "print('Testing classification errors are:')\n",
    "print(classification_error(X_test, Y_test, w, b))"
   ]
  }
 ],
 "metadata": {
  "colab": {
   "collapsed_sections": [],
   "name": "training_test_errors.ipynb",
   "provenance": []
  },
  "kernelspec": {
   "display_name": "Python 3",
   "language": "python",
   "name": "python3"
  },
  "language_info": {
   "codemirror_mode": {
    "name": "ipython",
    "version": 3
   },
   "file_extension": ".py",
   "mimetype": "text/x-python",
   "name": "python",
   "nbconvert_exporter": "python",
   "pygments_lexer": "ipython3",
   "version": "3.7.4"
  },
  "toc": {
   "colors": {
    "hover_highlight": "#DAA520",
    "navigate_num": "#000000",
    "navigate_text": "#333333",
    "running_highlight": "#FF0000",
    "selected_highlight": "#FFD700",
    "sidebar_border": "#EEEEEE",
    "wrapper_background": "#FFFFFF"
   },
   "moveMenuLeft": true,
   "nav_menu": {
    "height": "12px",
    "width": "252px"
   },
   "navigate_menu": true,
   "number_sections": true,
   "sideBar": true,
   "threshold": 4,
   "toc_cell": false,
   "toc_section_display": "block",
   "toc_window_display": false,
   "widenNotebook": false
  }
 },
 "nbformat": 4,
 "nbformat_minor": 1
}
