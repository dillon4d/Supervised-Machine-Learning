{
 "cells": [
  {
   "cell_type": "markdown",
   "metadata": {},
   "source": [
    "## k Nearest Neighbors"
   ]
  },
  {
   "cell_type": "code",
   "execution_count": 1,
   "metadata": {
    "ExecuteTime": {
     "end_time": "2020-02-19T05:39:59.566529Z",
     "start_time": "2020-02-19T05:39:58.949928Z"
    }
   },
   "outputs": [],
   "source": [
    "%config InlineBackend.figure_format = 'retina'\n",
    "import numpy as np\n",
    "import matplotlib.pyplot as plt\n",
    "from sklearn import datasets\n",
    "import scipy\n",
    "from matplotlib.colors import ListedColormap\n",
    "from functools import partial"
   ]
  },
  {
   "cell_type": "markdown",
   "metadata": {},
   "source": [
    "### Load the modified Iris dataset"
   ]
  },
  {
   "cell_type": "code",
   "execution_count": 2,
   "metadata": {
    "ExecuteTime": {
     "end_time": "2020-02-19T05:40:00.415009Z",
     "start_time": "2020-02-19T05:40:00.403292Z"
    }
   },
   "outputs": [
    {
     "name": "stdout",
     "output_type": "stream",
     "text": [
      "(150, 4)\n",
      "(150, 1)\n",
      "[ 5.8  4.   1.2  0.2 -1. ]\n"
     ]
    }
   ],
   "source": [
    "# Iris dataset.\n",
    "iris = datasets.load_iris()     # Load Iris dataset.\n",
    "\n",
    "X = iris.data                   # The shape of X is (150, 4), which means\n",
    "                                # there are 150 data points, each data point\n",
    "                                # has 4 features.\n",
    "\n",
    "Y = (iris.target > 1.5).reshape(-1,1).astype(np.float) # The shape of Y is (150, 1), which means \n",
    "                                # there are 150 data points, each data point\n",
    "                                # has 1 target value. \n",
    "Y[Y==0] = -1                    # Convert labels from {0, 1} to {-1, 1}\n",
    "\n",
    "X_and_Y = np.hstack((X, Y))     # Stack them together for shuffling.\n",
    "np.random.seed(1)               # Set the random seed.\n",
    "np.random.shuffle(X_and_Y)      # Shuffle the data points in X_and_Y array\n",
    "\n",
    "print(X.shape)\n",
    "print(Y.shape)\n",
    "print(X_and_Y[0])               # Should be: [5.8 4.  1.2 0.2 -1. ]."
   ]
  },
  {
   "cell_type": "code",
   "execution_count": 3,
   "metadata": {
    "ExecuteTime": {
     "end_time": "2020-02-19T05:40:01.103264Z",
     "start_time": "2020-02-19T05:40:01.090450Z"
    }
   },
   "outputs": [
    {
     "name": "stdout",
     "output_type": "stream",
     "text": [
      "(50, 2)\n",
      "(50,)\n",
      "(50, 2)\n",
      "(50,)\n",
      "(50, 2)\n",
      "(50,)\n"
     ]
    }
   ],
   "source": [
    "# Divide the data points into training set and test set.\n",
    "X_shuffled = X_and_Y[:,:4]\n",
    "Y_shuffled = X_and_Y[:,4]\n",
    "\n",
    "X_train = X_shuffled[:50][:, [3,1]]     # Shape: (50,2)\n",
    "Y_train = Y_shuffled[:50]               # Shape: (50,)\n",
    "X_val   = X_shuffled[50:100][:, [3,1]]  # Shape: (50,2)\n",
    "Y_val   = Y_shuffled[50:100]            # Shape: (50,)\n",
    "X_test  = X_shuffled[100:][:, [3,1]]    # Shape: (50,2)\n",
    "Y_test  = Y_shuffled[100:]              # Shape: (50,)\n",
    "print(X_train.shape)\n",
    "print(Y_train.shape)\n",
    "print(X_val.shape)\n",
    "print(Y_val.shape)\n",
    "print(X_test.shape)\n",
    "print(Y_test.shape)"
   ]
  },
  {
   "cell_type": "markdown",
   "metadata": {},
   "source": [
    "### Visualization"
   ]
  },
  {
   "cell_type": "code",
   "execution_count": 4,
   "metadata": {
    "ExecuteTime": {
     "end_time": "2020-02-19T05:40:03.383932Z",
     "start_time": "2020-02-19T05:40:03.369037Z"
    }
   },
   "outputs": [],
   "source": [
    "def vis(X, Y, knn_classifier=None):\n",
    "    # Visualize k-NN.\n",
    "    if knn_classifier is not None:\n",
    "        # Calculate min, max and create grids.\n",
    "        h = .02\n",
    "        x0_min, x0_max = X[:, 0].min() - 0.1, X[:, 0].max() + 0.1\n",
    "        x1_min, x1_max = X[:, 1].min() - 0.1, X[:, 1].max() + 0.1\n",
    "        x0s, x1s = np.meshgrid(np.arange(x0_min, x0_max, h),\n",
    "                               np.arange(x1_min, x1_max, h))\n",
    "        xs = np.stack([x0s, x1s], axis=-1).reshape(-1, 2)\n",
    "\n",
    "        # Predict class using kNN classifier and data.\n",
    "        ys_pred = np.array([knn_classifier(x) for x in xs])\n",
    "        ys_pred = ys_pred.reshape(x0s.shape)\n",
    "\n",
    "        # Put the result into a color plot.\n",
    "        # Color map: #00AAFF - blue, #FFAAAA - red, #AAFFAA - green\n",
    "        \n",
    "        cmap_light = ListedColormap(['#00AAFF', '#FFAAAA'])\n",
    "        plt.pcolormesh(x0s, x1s, ys_pred, cmap=cmap_light, alpha=0.3)\n",
    "    \n",
    "    indices_neg1 = (Y == -1).nonzero()[0]\n",
    "    indices_pos1 = (Y == 1).nonzero()[0]\n",
    "    plt.scatter(X[:,0][indices_neg1], X[:,1][indices_neg1], \n",
    "                c='blue', label='class -1', alpha=0.3)\n",
    "    plt.scatter(X[:,0][indices_pos1], X[:,1][indices_pos1], \n",
    "                c='red', label='class +1', alpha=0.3)\n",
    "    plt.legend()\n",
    "    plt.xlabel('$x_0$')\n",
    "    plt.ylabel('$x_1$')\n",
    "\n",
    "    plt.show()"
   ]
  },
  {
   "cell_type": "code",
   "execution_count": 5,
   "metadata": {
    "ExecuteTime": {
     "end_time": "2020-02-19T05:40:04.934673Z",
     "start_time": "2020-02-19T05:40:04.476219Z"
    }
   },
   "outputs": [
    {
     "data": {
      "image/png": "[encoded data removed]",
      "text/plain": [
       "<Figure size 432x288 with 1 Axes>"
      ]
     },
     "metadata": {
      "image/png": {
       "height": 261,
       "width": 396
      },
      "needs_background": "light"
     },
     "output_type": "display_data"
    }
   ],
   "source": [
    "# Visualize training set.\n",
    "vis(X_train, Y_train)\n",
    "# Note that some points have darker color since there can be \n",
    "# multiple points at the same location."
   ]
  },
  {
   "cell_type": "markdown",
   "metadata": {},
   "source": [
    "### k Nearest Neighbors"
   ]
  },
  {
   "cell_type": "code",
   "execution_count": null,
   "metadata": {
    "ExecuteTime": {
     "end_time": "2020-02-19T05:40:06.709270Z",
     "start_time": "2020-02-19T05:40:06.700455Z"
    }
   },
   "outputs": [],
   "source": [
    "# Euclidean distance.\n",
    "def calc_distance(x1, x2):\n",
    "    # x1, x2 are two NumPy vectors\n",
    "    # Return the Euclidean distance between x1 and x2. It should be a scalar.\n",
    "    dist = ######## To be filled. ########\n",
    "    return dist\n",
    "    \n",
    "# k nearest neighbor predictor.\n",
    "def f_knn(x, X_train, Y_train, k):\n",
    "    # Create the list of (distance, label) pairs.\n",
    "    dist_label_pairs = []\n",
    "    for xi, yi in zip(X_train, Y_train):\n",
    "        # Calculate the distance.\n",
    "        dist = calc_distance(xi, x)\n",
    "        # Add a (distance, label) pair to the list.\n",
    "        dist_label_pairs.append((dist, yi))\n",
    "    # Sort the pairs by distance (ascending).\n",
    "    sorted_dist_label_pairs = sorted(dist_label_pairs, key=lambda x:x[0])\n",
    "    # Obtain the first k pairs (corresponding to k smallest distances).\n",
    "    k_dist_label_pairs = ######## To be filled. ########\n",
    "    # Extract the labels of the k pairs.\n",
    "    k_labels           = ######## To be filled. ########\n",
    "    # Count the number of +1 predictions and -1 predictions.\n",
    "    pos1_in_k_labels = 0 \n",
    "    neg1_in_k_labels = 0\n",
    "    for label in k_labels:\n",
    "        if label == +1:\n",
    "            pos1_in_k_labels += 1\n",
    "        elif label == -1:\n",
    "            neg1_in_k_labels += 1\n",
    "    # Make the prediction based on counts.\n",
    "    if pos1_in_k_labels > neg1_in_k_labels:\n",
    "        y_pred = +1\n",
    "    else:\n",
    "        y_pred = -1\n",
    "\n",
    "    return y_pred\n",
    "    \n",
    "# Judge function: 1(a != b). It supports scalar, vector and matrix.\n",
    "def judge(a, b):\n",
    "    return np.array(a != b).astype(np.float32)\n",
    "\n",
    "# Calculate error given feature vectors X and labels Y.\n",
    "def calc_error(X, Y, knn_classifier):\n",
    "    e = 0\n",
    "    n = len(X)\n",
    "    for (xi, yi) in zip(X, Y):\n",
    "        e += judge(yi, knn_classifier(xi))\n",
    "    e = 1.0 * e / n\n",
    "    return e"
   ]
  },
  {
   "cell_type": "markdown",
   "metadata": {},
   "source": [
    "### Visualize the results"
   ]
  },
  {
   "cell_type": "code",
   "execution_count": null,
   "metadata": {
    "ExecuteTime": {
     "end_time": "2020-02-19T05:40:20.561576Z",
     "start_time": "2020-02-19T05:40:09.318328Z"
    },
    "scrolled": false
   },
   "outputs": [],
   "source": [
    "opt_val_error = 1.0\n",
    "opt_k = None\n",
    "\n",
    "# Try different k(s).\n",
    "for k in [1,2,3]:\n",
    "    # Visualize \n",
    "    #   1. Validation set (as points).\n",
    "    #   2. Decision boundary from training set (as background).\n",
    "    print(\"k={}\".format(k))\n",
    "    # Create a k-NN classifier with training set.\n",
    "    knn_classifier = partial(f_knn, X_train=X_train, Y_train=Y_train, k=k)\n",
    "    # Visualization.\n",
    "    vis(X_val, Y_val, knn_classifier)\n",
    "    # Calculate validation error.\n",
    "    val_error = calc_error(X_val, Y_val, knn_classifier)\n",
    "    print(\"Validation error: {}\\n\".format(val_error))\n",
    "    if val_error < opt_val_error:\n",
    "        opt_val_error = val_error\n",
    "        opt_k = k\n",
    "        opt_knn_classifier = knn_classifier"
   ]
  },
  {
   "cell_type": "code",
   "execution_count": null,
   "metadata": {
    "ExecuteTime": {
     "end_time": "2020-02-19T05:40:25.023677Z",
     "start_time": "2020-02-19T05:40:20.562847Z"
    }
   },
   "outputs": [],
   "source": [
    "print(\"Best k={}\".format(opt_k))\n",
    "test_error = calc_error(X_test, Y_test, opt_knn_classifier)\n",
    "vis(X_test, Y_test, opt_knn_classifier)\n",
    "print(\"Test error: {}\".format(test_error))"
   ]
  }
 ],
 "metadata": {
  "kernelspec": {
   "display_name": "Python 3",
   "language": "python",
   "name": "python3"
  },
  "language_info": {
   "codemirror_mode": {
    "name": "ipython",
    "version": 3
   },
   "file_extension": ".py",
   "mimetype": "text/x-python",
   "name": "python",
   "nbconvert_exporter": "python",
   "pygments_lexer": "ipython3",
   "version": "3.7.4"
  },
  "toc": {
   "base_numbering": 1,
   "nav_menu": {
    "height": "84px",
    "width": "252px"
   },
   "number_sections": true,
   "sideBar": true,
   "skip_h1_title": false,
   "title_cell": "Table of Contents",
   "title_sidebar": "Contents",
   "toc_cell": false,
   "toc_position": {},
   "toc_section_display": "block",
   "toc_window_display": false
  }
 },
 "nbformat": 4,
 "nbformat_minor": 2
}
